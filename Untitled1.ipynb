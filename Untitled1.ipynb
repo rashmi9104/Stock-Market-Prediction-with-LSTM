{
 "cells": [
  {
   "cell_type": "code",
   "execution_count": 1,
   "id": "4c314882",
   "metadata": {},
   "outputs": [],
   "source": [
    "import numpy as np\n",
    "import pandas as pd\n",
    "import matplotlib.pyplot as plt\n",
    "from sklearn.preprocessing import MinMaxScaler\n",
    "from keras.models import Sequential\n",
    "from keras.layers import Dense,LSTM,Dropout"
   ]
  },
  {
   "cell_type": "code",
   "execution_count": 2,
   "id": "d7d97bd8",
   "metadata": {},
   "outputs": [],
   "source": [
    "data = pd.read_csv('datasetsandcodefilesstockmarketprediction/Google_train_data.csv')"
   ]
  },
  {
   "cell_type": "code",
   "execution_count": 3,
   "id": "5d77d307",
   "metadata": {},
   "outputs": [
    {
     "name": "stdout",
     "output_type": "stream",
     "text": [
      "<class 'pandas.core.frame.DataFrame'>\n",
      "RangeIndex: 1258 entries, 0 to 1257\n",
      "Data columns (total 6 columns):\n",
      " #   Column  Non-Null Count  Dtype  \n",
      "---  ------  --------------  -----  \n",
      " 0   Date    1258 non-null   object \n",
      " 1   Open    1258 non-null   float64\n",
      " 2   High    1258 non-null   float64\n",
      " 3   Low     1258 non-null   float64\n",
      " 4   Close   1258 non-null   object \n",
      " 5   Volume  1258 non-null   object \n",
      "dtypes: float64(3), object(3)\n",
      "memory usage: 59.1+ KB\n"
     ]
    }
   ],
   "source": [
    "data.info()"
   ]
  },
  {
   "cell_type": "code",
   "execution_count": 4,
   "id": "cc4b129e",
   "metadata": {},
   "outputs": [],
   "source": [
    "data[\"Close\"] = pd.to_numeric(data.Close, errors=\"coerce\")\n",
    "data = data.dropna()\n",
    "trainData = data.iloc[:,4:5].values"
   ]
  },
  {
   "cell_type": "code",
   "execution_count": 5,
   "id": "2aaefa67",
   "metadata": {},
   "outputs": [
    {
     "name": "stdout",
     "output_type": "stream",
     "text": [
      "<class 'pandas.core.frame.DataFrame'>\n",
      "Int64Index: 1149 entries, 0 to 1257\n",
      "Data columns (total 6 columns):\n",
      " #   Column  Non-Null Count  Dtype  \n",
      "---  ------  --------------  -----  \n",
      " 0   Date    1149 non-null   object \n",
      " 1   Open    1149 non-null   float64\n",
      " 2   High    1149 non-null   float64\n",
      " 3   Low     1149 non-null   float64\n",
      " 4   Close   1149 non-null   float64\n",
      " 5   Volume  1149 non-null   object \n",
      "dtypes: float64(4), object(2)\n",
      "memory usage: 62.8+ KB\n"
     ]
    }
   ],
   "source": [
    "data.info()"
   ]
  },
  {
   "cell_type": "code",
   "execution_count": 6,
   "id": "ef7bc57d",
   "metadata": {},
   "outputs": [
    {
     "data": {
      "text/plain": [
       "(1149, 1)"
      ]
     },
     "execution_count": 6,
     "metadata": {},
     "output_type": "execute_result"
    }
   ],
   "source": [
    "sc = MinMaxScaler(feature_range=(0,1))\n",
    "trainData = sc.fit_transform(trainData)\n",
    "trainData.shape"
   ]
  },
  {
   "cell_type": "code",
   "execution_count": 7,
   "id": "5d28b2b5",
   "metadata": {},
   "outputs": [],
   "source": [
    "x_train = []\n",
    "y_train = []\n",
    "\n",
    "for i in range(60,1149):\n",
    "    x_train.append(trainData[i-60:i,0])\n",
    "    y_train.append(trainData[i,0])\n",
    "    \n",
    "x_train, y_train = np.array(x_train),np.array(y_train)"
   ]
  },
  {
   "cell_type": "code",
   "execution_count": 9,
   "id": "e263a131",
   "metadata": {},
   "outputs": [
    {
     "data": {
      "text/plain": [
       "(1089, 60, 1)"
      ]
     },
     "execution_count": 9,
     "metadata": {},
     "output_type": "execute_result"
    }
   ],
   "source": [
    "x_train = np.reshape(x_train,(x_train.shape[0], x_train.shape[1],1))\n",
    "x_train.shape"
   ]
  },
  {
   "cell_type": "code",
   "execution_count": 10,
   "id": "db9a295e",
   "metadata": {},
   "outputs": [],
   "source": [
    "model = Sequential()\n",
    "\n",
    "model.add(LSTM(units=100, return_sequences = True, input_shape=(x_train.shape[1],1)))\n",
    "model.add(Dropout(0.2))\n",
    "\n",
    "model.add(LSTM(units=100, return_sequences = True))\n",
    "model.add(Dropout(0.2))\n",
    "\n",
    "model.add(LSTM(units=100, return_sequences = True))\n",
    "model.add(Dropout(0.2))\n",
    "\n",
    "model.add(LSTM(units=100, return_sequences = False))\n",
    "model.add(Dropout(0.2))\n",
    "\n",
    "model.add(Dense(units=1))\n",
    "model.compile(optimizer='adam',loss=\"mean_squared_error\")"
   ]
  },
  {
   "cell_type": "code",
   "execution_count": 11,
   "id": "db8e9e10",
   "metadata": {},
   "outputs": [
    {
     "name": "stdout",
     "output_type": "stream",
     "text": [
      "Epoch 1/20\n",
      "35/35 - 11s - loss: 0.0356 - 11s/epoch - 320ms/step\n",
      "Epoch 2/20\n",
      "35/35 - 5s - loss: 0.0124 - 5s/epoch - 144ms/step\n",
      "Epoch 3/20\n",
      "35/35 - 5s - loss: 0.0106 - 5s/epoch - 141ms/step\n",
      "Epoch 4/20\n",
      "35/35 - 5s - loss: 0.0080 - 5s/epoch - 132ms/step\n",
      "Epoch 5/20\n",
      "35/35 - 5s - loss: 0.0077 - 5s/epoch - 132ms/step\n",
      "Epoch 6/20\n",
      "35/35 - 5s - loss: 0.0079 - 5s/epoch - 132ms/step\n",
      "Epoch 7/20\n",
      "35/35 - 5s - loss: 0.0067 - 5s/epoch - 133ms/step\n",
      "Epoch 8/20\n",
      "35/35 - 5s - loss: 0.0062 - 5s/epoch - 131ms/step\n",
      "Epoch 9/20\n",
      "35/35 - 5s - loss: 0.0067 - 5s/epoch - 132ms/step\n",
      "Epoch 10/20\n",
      "35/35 - 5s - loss: 0.0059 - 5s/epoch - 131ms/step\n",
      "Epoch 11/20\n",
      "35/35 - 5s - loss: 0.0057 - 5s/epoch - 131ms/step\n",
      "Epoch 12/20\n",
      "35/35 - 5s - loss: 0.0052 - 5s/epoch - 131ms/step\n",
      "Epoch 13/20\n",
      "35/35 - 5s - loss: 0.0055 - 5s/epoch - 131ms/step\n",
      "Epoch 14/20\n",
      "35/35 - 5s - loss: 0.0104 - 5s/epoch - 130ms/step\n",
      "Epoch 15/20\n",
      "35/35 - 5s - loss: 0.0057 - 5s/epoch - 130ms/step\n",
      "Epoch 16/20\n",
      "35/35 - 5s - loss: 0.0049 - 5s/epoch - 131ms/step\n",
      "Epoch 17/20\n",
      "35/35 - 5s - loss: 0.0043 - 5s/epoch - 131ms/step\n",
      "Epoch 18/20\n",
      "35/35 - 5s - loss: 0.0046 - 5s/epoch - 131ms/step\n",
      "Epoch 19/20\n",
      "35/35 - 5s - loss: 0.0049 - 5s/epoch - 132ms/step\n",
      "Epoch 20/20\n",
      "35/35 - 5s - loss: 0.0046 - 5s/epoch - 132ms/step\n"
     ]
    }
   ],
   "source": [
    "hist = model.fit(x_train, y_train, epochs = 20, batch_size = 32, verbose=2)"
   ]
  },
  {
   "cell_type": "code",
   "execution_count": 12,
   "id": "3a4ffe86",
   "metadata": {},
   "outputs": [
    {
     "data": {
      "image/png": "[encoded data removed]",
      "text/plain": [
       "<Figure size 432x288 with 1 Axes>"
      ]
     },
     "metadata": {
      "needs_background": "light"
     },
     "output_type": "display_data"
    }
   ],
   "source": [
    "plt.plot(hist.history['loss'])\n",
    "plt.title('Training model loss')\n",
    "plt.ylabel('loss')\n",
    "plt.xlabel('epoch')\n",
    "plt.legend(['train'], loc='upper left')\n",
    "plt.show()"
   ]
  },
  {
   "cell_type": "code",
   "execution_count": 14,
   "id": "aa9758fb",
   "metadata": {},
   "outputs": [
    {
     "data": {
      "text/plain": [
       "(192, 60, 1)"
      ]
     },
     "execution_count": 14,
     "metadata": {},
     "output_type": "execute_result"
    }
   ],
   "source": [
    "testData = pd.read_csv('datasetsandcodefilesstockmarketprediction/Google_test_data.csv')\n",
    "testData[\"Close\"] = pd.to_numeric(testData.Close,errors='coerce')\n",
    "testData = testData.dropna()\n",
    "testData = testData.iloc[:,4:5]\n",
    "y_test = testData.iloc[60:,0:].values\n",
    "\n",
    "#input array for the model\n",
    "inputClosing = testData.iloc[:,0:].values\n",
    "inputClosing_scaled = sc.transform(inputClosing)\n",
    "inputClosing_scaled.shape\n",
    "x_test = []\n",
    "length = len(testData)\n",
    "timestep = 60\n",
    "for i in range(timestep, length):\n",
    "    x_test.append(inputClosing_scaled[i-timestep:i,0])\n",
    "\n",
    "x_test = np.array(x_test)\n",
    "x_test = np.reshape(x_test, (x_test.shape[0], x_test.shape[1],1))\n",
    "x_test.shape"
   ]
  },
  {
   "cell_type": "code",
   "execution_count": 15,
   "id": "b3666468",
   "metadata": {},
   "outputs": [
    {
     "data": {
      "text/plain": [
       "array([[1.1654251],\n",
       "       [1.1673065],\n",
       "       [1.1795532],\n",
       "       [1.197221 ],\n",
       "       [1.2087607],\n",
       "       [1.2028271],\n",
       "       [1.1830841],\n",
       "       [1.1612089],\n",
       "       [1.1507037],\n",
       "       [1.1516056],\n",
       "       [1.1469643],\n",
       "       [1.1363139],\n",
       "       [1.1273535],\n",
       "       [1.1193426],\n",
       "       [1.1200442],\n",
       "       [1.1274477],\n",
       "       [1.1495609],\n",
       "       [1.180977 ],\n",
       "       [1.2134964],\n",
       "       [1.2428011],\n",
       "       [1.2469857],\n",
       "       [1.234097 ],\n",
       "       [1.2050915],\n",
       "       [1.1714168],\n",
       "       [1.1464988],\n",
       "       [1.137933 ],\n",
       "       [1.1425371],\n",
       "       [1.1480118],\n",
       "       [1.1423551],\n",
       "       [1.1312577],\n",
       "       [1.1189824],\n",
       "       [1.1052225],\n",
       "       [1.0839351],\n",
       "       [1.0583549],\n",
       "       [1.0524678],\n",
       "       [1.0691872],\n",
       "       [1.0969   ],\n",
       "       [1.1234989],\n",
       "       [1.1450253],\n",
       "       [1.1506923],\n",
       "       [1.1580472],\n",
       "       [1.1700513],\n",
       "       [1.1857244],\n",
       "       [1.2000226],\n",
       "       [1.2081105],\n",
       "       [1.2054701],\n",
       "       [1.1913228],\n",
       "       [1.1816406],\n",
       "       [1.181815 ],\n",
       "       [1.1920273],\n",
       "       [1.2093601],\n",
       "       [1.2190416],\n",
       "       [1.2198505],\n",
       "       [1.214491 ],\n",
       "       [1.2122059],\n",
       "       [1.2082181],\n",
       "       [1.1993014],\n",
       "       [1.1965692],\n",
       "       [1.2097781],\n",
       "       [1.2318192],\n",
       "       [1.2604444],\n",
       "       [1.2920996],\n",
       "       [1.3094112],\n",
       "       [1.3047876],\n",
       "       [1.2844622],\n",
       "       [1.2594303],\n",
       "       [1.2465508],\n",
       "       [1.24699  ],\n",
       "       [1.2560619],\n",
       "       [1.2651377],\n",
       "       [1.2722129],\n",
       "       [1.2751546],\n",
       "       [1.2692538],\n",
       "       [1.2620621],\n",
       "       [1.2570416],\n",
       "       [1.2568277],\n",
       "       [1.2605314],\n",
       "       [1.2670112],\n",
       "       [1.2806311],\n",
       "       [1.2997812],\n",
       "       [1.3231491],\n",
       "       [1.3432007],\n",
       "       [1.3506991],\n",
       "       [1.3464416],\n",
       "       [1.3470755],\n",
       "       [1.3602322],\n",
       "       [1.3799525],\n",
       "       [1.395363 ],\n",
       "       [1.402092 ],\n",
       "       [1.4012154],\n",
       "       [1.4011467],\n",
       "       [1.4120394],\n",
       "       [1.4320774],\n",
       "       [1.443614 ],\n",
       "       [1.4391266],\n",
       "       [1.4214755],\n",
       "       [1.3959997],\n",
       "       [1.3702409],\n",
       "       [1.3524954],\n",
       "       [1.3521693],\n",
       "       [1.3669207],\n",
       "       [1.3895549],\n",
       "       [1.4144568],\n",
       "       [1.4322364],\n",
       "       [1.4391733],\n",
       "       [1.4351914],\n",
       "       [1.427075 ],\n",
       "       [1.42016  ],\n",
       "       [1.420815 ],\n",
       "       [1.4281211],\n",
       "       [1.4396698],\n",
       "       [1.4541475],\n",
       "       [1.4671817],\n",
       "       [1.480232 ],\n",
       "       [1.4965954],\n",
       "       [1.508866 ],\n",
       "       [1.5170014],\n",
       "       [1.5239828],\n",
       "       [1.5348396],\n",
       "       [1.5088502],\n",
       "       [1.4509329],\n",
       "       [1.3857061],\n",
       "       [1.3423421],\n",
       "       [1.32808  ],\n",
       "       [1.3306862],\n",
       "       [1.3381295],\n",
       "       [1.3440748],\n",
       "       [1.3483157],\n",
       "       [1.340493 ],\n",
       "       [1.3209027],\n",
       "       [1.3129203],\n",
       "       [1.3242726],\n",
       "       [1.3414648],\n",
       "       [1.3475816],\n",
       "       [1.3455738],\n",
       "       [1.3406742],\n",
       "       [1.3325219],\n",
       "       [1.3210764],\n",
       "       [1.309753 ],\n",
       "       [1.295435 ],\n",
       "       [1.2815151],\n",
       "       [1.2665803],\n",
       "       [1.2316103],\n",
       "       [1.1911559],\n",
       "       [1.1549492],\n",
       "       [1.1306156],\n",
       "       [1.1263809],\n",
       "       [1.1426051],\n",
       "       [1.1693413],\n",
       "       [1.195507 ],\n",
       "       [1.218034 ],\n",
       "       [1.2331843],\n",
       "       [1.2424256],\n",
       "       [1.2501283],\n",
       "       [1.2560153],\n",
       "       [1.2620399],\n",
       "       [1.2705564],\n",
       "       [1.277408 ],\n",
       "       [1.2712562],\n",
       "       [1.2528706],\n",
       "       [1.2290776],\n",
       "       [1.2091224],\n",
       "       [1.2024457],\n",
       "       [1.2118126],\n",
       "       [1.2337275],\n",
       "       [1.262214 ],\n",
       "       [1.2837696],\n",
       "       [1.2966408],\n",
       "       [1.306793 ],\n",
       "       [1.3161886],\n",
       "       [1.323786 ],\n",
       "       [1.330034 ],\n",
       "       [1.3351958],\n",
       "       [1.3361154],\n",
       "       [1.3332133],\n",
       "       [1.3230236],\n",
       "       [1.3118848],\n",
       "       [1.3063934],\n",
       "       [1.3041048],\n",
       "       [1.3016224],\n",
       "       [1.3379115],\n",
       "       [1.3982766],\n",
       "       [1.4526348],\n",
       "       [1.4823896],\n",
       "       [1.484922 ],\n",
       "       [1.4647886],\n",
       "       [1.4206612],\n",
       "       [1.3762197],\n",
       "       [1.3461027],\n",
       "       [1.3438644],\n",
       "       [1.3562651],\n",
       "       [1.3676176]], dtype=float32)"
      ]
     },
     "execution_count": 15,
     "metadata": {},
     "output_type": "execute_result"
    }
   ],
   "source": [
    "y_pred = model.predict(x_test)\n",
    "y_pred"
   ]
  },
  {
   "cell_type": "code",
   "execution_count": 16,
   "id": "6bae08f9",
   "metadata": {},
   "outputs": [],
   "source": [
    "predicted_price = sc.inverse_transform(y_pred)"
   ]
  },
  {
   "cell_type": "code",
   "execution_count": 17,
   "id": "1939f5d5",
   "metadata": {},
   "outputs": [
    {
     "data": {
      "image/png": "[encoded data removed]",
      "text/plain": [
       "<Figure size 432x288 with 1 Axes>"
      ]
     },
     "metadata": {
      "needs_background": "light"
     },
     "output_type": "display_data"
    }
   ],
   "source": [
    "plt.plot(y_test, color = 'red', label='Actual Stock Price')\n",
    "plt.plot(predicted_price, color='green', label='Predicted Stock Price')\n",
    "plt.title('Google stock price prediction')\n",
    "plt.xlabel('Time')\n",
    "plt.ylabel('Stock Price')\n",
    "plt.legend()\n",
    "plt.show()"
   ]
  },
  {
   "cell_type": "markdown",
   "id": "ae2872b0",
   "metadata": {},
   "source": []
  }
 ],
 "metadata": {
  "kernelspec": {
   "display_name": "Python 3 (ipykernel)",
   "language": "python",
   "name": "python3"
  },
  "language_info": {
   "codemirror_mode": {
    "name": "ipython",
    "version": 3
   },
   "file_extension": ".py",
   "mimetype": "text/x-python",
   "name": "python",
   "nbconvert_exporter": "python",
   "pygments_lexer": "ipython3",
   "version": "3.9.7"
  }
 },
 "nbformat": 4,
 "nbformat_minor": 5
}
